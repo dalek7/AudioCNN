{
 "cells": [
  {
   "cell_type": "markdown",
   "metadata": {},
   "source": [
    "## Urban Sound Classification using Convolutional Neural Networks with Keras: Theory and Implementation\n",
    "\n",
    "https://medium.com/gradientcrescent/urban-sound-classification-using-convolutional-neural-networks-with-keras-theory-and-486e92785df4"
   ]
  },
  {
   "cell_type": "markdown",
   "metadata": {},
   "source": [
    "The UrbanSound dataset consists of 8732 labelled short (less than 4 s) sound excerpts of urban sounds from 10 different classes. Both our training and test datasets consist of .wav files and an accompanying .csv spreadsheet detailing their ID and in the case of the training data, their correct descriptions, which serve as their labels. In order to convert our data into spectrogram representations, we will utilize LibROSA, an open-source python package for music and audio analysis."
   ]
  },
  {
   "cell_type": "markdown",
   "metadata": {},
   "source": [
    "UrbanSoundDataset\n",
    ": https://urbansounddataset.weebly.com/"
   ]
  },
  {
   "cell_type": "markdown",
   "metadata": {},
   "source": [
    "아래는 다른 Kaggle site에 올려진 데이터. weebly꺼 말고 이걸 받아서 사용함.\n",
    "```\n",
    "train.zip (3GB) \n",
    "test.zip (2GB)\n",
    "```\n",
    "The dataset is called UrbanSound and contains 8732 labeled sound excerpts (<=4s) of urban sounds from 10 classes: - The dataset contains 8732 sound excerpts (<=4s) of urban sounds from 10 classes, namely: Air Conditioner Car Horn Children Playing Dog bark Drilling Engine Idling Gun Shot Jackhammer Siren Street Music The attributes of data are as follows: ID – Unique ID of sound excerpt Class – type of sound\n",
    "\n",
    "https://www.kaggle.com/devilsknight/sound-classification-using-spectrogram-images\n",
    "\n",
    "Source of the dataset : https://drive.google.com/drive/folders/0By0bAi7hOBAFUHVXd1JCN3MwTEU\n",
    "\n",
    "Source of research document : https://serv.cusp.nyu.edu/projects/urbansounddataset/salamon_urbansound_acmmm14.pdf\n"
   ]
  },
  {
   "cell_type": "code",
   "execution_count": 7,
   "metadata": {},
   "outputs": [],
   "source": [
    "import warnings\n",
    "warnings.simplefilter('ignore')"
   ]
  },
  {
   "cell_type": "code",
   "execution_count": 8,
   "metadata": {},
   "outputs": [
    {
     "name": "stdout",
     "output_type": "stream",
     "text": [
      "test  train\r\n"
     ]
    }
   ],
   "source": [
    "dataloc='/home/seung/dataset/UrbanSound_devilsknight'\n",
    "!ls $dataloc"
   ]
  },
  {
   "cell_type": "code",
   "execution_count": 9,
   "metadata": {},
   "outputs": [],
   "source": [
    "from memory_profiler import memory_usage\n",
    "#https://github.com/giampaolo/psutil/issues/1143#issuecomment-334695523\n",
    "import os\n",
    "import pandas as pd\n",
    "from glob import glob\n",
    "import numpy as np\n",
    "#import tqdm as tqdm\n",
    "from tqdm import tqdm_notebook as tqdm"
   ]
  },
  {
   "cell_type": "markdown",
   "metadata": {},
   "source": [
    "!apt-get install libav-tools -y"
   ]
  },
  {
   "cell_type": "markdown",
   "metadata": {},
   "source": [
    "In order to convert our data into spectrogram representations, we will utilize LibROSA, an open-source python package for music and audio analysis."
   ]
  },
  {
   "cell_type": "code",
   "execution_count": 13,
   "metadata": {},
   "outputs": [],
   "source": [
    "from keras import layers\n",
    "from keras import models\n",
    "from keras.layers.advanced_activations import LeakyReLU\n",
    "from keras.optimizers import Adam\n",
    "import keras.backend as K\n",
    "import librosa\n",
    "import librosa.display\n",
    "import pylab\n",
    "import matplotlib.pyplot as plt\n",
    "from matplotlib import figure\n",
    "import gc\n",
    "from path import Path"
   ]
  },
  {
   "cell_type": "code",
   "execution_count": 14,
   "metadata": {},
   "outputs": [],
   "source": [
    "from DDUtil import *"
   ]
  },
  {
   "cell_type": "code",
   "execution_count": 42,
   "metadata": {},
   "outputs": [
    {
     "name": "stdout",
     "output_type": "stream",
     "text": [
      "Created /home/seung/data/out-audio1//n21_CL1\n"
     ]
    }
   ],
   "source": [
    "n_classes = 1\n",
    "bCreateFile=False#False\n",
    "base_dir_out = '/home/seung/data/out-audio1/'\n",
    "outDir = '{}/n21_CL{}'.format(base_dir_out, n_classes)\n",
    "MakeDir(outDir)\n",
    "MakeDir(base_dir_out+'_train')\n",
    "MakeDir(base_dir_out+'_test')\n",
    "\n",
    "print('Created {}'.format(outDir))"
   ]
  },
  {
   "cell_type": "code",
   "execution_count": 20,
   "metadata": {},
   "outputs": [
    {
     "name": "stdout",
     "output_type": "stream",
     "text": [
      "n21_CL1  n21_CL1model.h5  _test  _train\r\n"
     ]
    }
   ],
   "source": [
    "!ls /home/seung/data/out-audio1"
   ]
  },
  {
   "cell_type": "markdown",
   "metadata": {},
   "source": [
    "~/.venv/py3Keras/bin/pip install -I path.py==7.7.1"
   ]
  },
  {
   "cell_type": "code",
   "execution_count": 21,
   "metadata": {},
   "outputs": [],
   "source": [
    "def create_spectrogram(outdir, filename,name):\n",
    "    plt.interactive(False)\n",
    "    clip, sample_rate = librosa.load(filename, sr=None)\n",
    "    fig = plt.figure(figsize=[0.72,0.72])\n",
    "    ax = fig.add_subplot(111)\n",
    "    ax.axes.get_xaxis().set_visible(False)\n",
    "    ax.axes.get_yaxis().set_visible(False)\n",
    "    ax.set_frame_on(False)\n",
    "    S = librosa.feature.melspectrogram(y=clip, sr=sample_rate)\n",
    "    librosa.display.specshow(librosa.power_to_db(S, ref=np.max))\n",
    "    fout  = outdir + '/_train/' + name + '.jpg'\n",
    "    plt.savefig(fout, dpi=400, bbox_inches='tight',pad_inches=0)\n",
    "    plt.close()    \n",
    "    fig.clf()\n",
    "    plt.close(fig)\n",
    "    plt.close('all')\n",
    "    del fout,name,clip,sample_rate,fig,ax,S"
   ]
  },
  {
   "cell_type": "code",
   "execution_count": 22,
   "metadata": {},
   "outputs": [],
   "source": [
    "def create_spectrogram_test(outdir, filename, name):\n",
    "    plt.interactive(False)\n",
    "    clip, sample_rate = librosa.load(filename, sr=None)\n",
    "    fig = plt.figure(figsize=[0.72,0.72])\n",
    "    ax = fig.add_subplot(111)\n",
    "    ax.axes.get_xaxis().set_visible(False)\n",
    "    ax.axes.get_yaxis().set_visible(False)\n",
    "    ax.set_frame_on(False)\n",
    "    S = librosa.feature.melspectrogram(y=clip, sr=sample_rate)\n",
    "    librosa.display.specshow(librosa.power_to_db(S, ref=np.max))\n",
    "    #fout  = Path(outdir +'/test/' + name + '.jpg')\n",
    "    fout  = outdir +'/_test/' + name + '.jpg'\n",
    "    fig.savefig(fout, dpi=400, bbox_inches='tight',pad_inches=0)\n",
    "    plt.close()    \n",
    "    fig.clf()\n",
    "    plt.close(fig)\n",
    "    plt.close('all')\n",
    "    del fout,name,clip,sample_rate,fig,ax,S"
   ]
  },
  {
   "cell_type": "code",
   "execution_count": 23,
   "metadata": {},
   "outputs": [
    {
     "name": "stdout",
     "output_type": "stream",
     "text": [
      "Train : (5435,)\n",
      "Test : (3297,)\n"
     ]
    }
   ],
   "source": [
    "Data_dir=np.array(glob(dataloc+'/train/Train/*'))\n",
    "Test_dir=np.array(glob(dataloc+'/test/Test/*'))\n",
    "print('Train : {}'.format(Data_dir.shape))\n",
    "print('Test : {}'.format(Test_dir.shape))"
   ]
  },
  {
   "cell_type": "code",
   "execution_count": 24,
   "metadata": {},
   "outputs": [
    {
     "data": {
      "text/plain": [
       "array(['/home/seung/dataset/UrbanSound_devilsknight/train/Train/7893.wav',\n",
       "       '/home/seung/dataset/UrbanSound_devilsknight/train/Train/5178.wav',\n",
       "       '/home/seung/dataset/UrbanSound_devilsknight/train/Train/495.wav'],\n",
       "      dtype='<U64')"
      ]
     },
     "execution_count": 24,
     "metadata": {},
     "output_type": "execute_result"
    }
   ],
   "source": [
    "Data_dir[:3]"
   ]
  },
  {
   "cell_type": "code",
   "execution_count": 25,
   "metadata": {},
   "outputs": [
    {
     "name": "stdout",
     "output_type": "stream",
     "text": [
      "peak memory: 372.93 MiB, increment: 0.00 MiB\n"
     ]
    }
   ],
   "source": [
    "%load_ext memory_profiler\n",
    "%memit\n",
    "i=0\n",
    "if bCreateFile:\n",
    "    with tqdm(total=len(Data_dir[i:i+2000])) as pbar:\n",
    "        for file in Data_dir[i:i+2000]:\n",
    "            filename,name = file,file.split('/')[-1].split('.')[0]\n",
    "            create_spectrogram(base_dir_out,filename,name)\n",
    "            pbar.update(1)\n",
    "    gc.collect()"
   ]
  },
  {
   "cell_type": "code",
   "execution_count": 26,
   "metadata": {},
   "outputs": [
    {
     "data": {
      "text/plain": [
       "2000"
      ]
     },
     "execution_count": 26,
     "metadata": {},
     "output_type": "execute_result"
    }
   ],
   "source": [
    "len(Data_dir[i:i+2000])"
   ]
  },
  {
   "cell_type": "code",
   "execution_count": 27,
   "metadata": {},
   "outputs": [
    {
     "name": "stdout",
     "output_type": "stream",
     "text": [
      "peak memory: 372.94 MiB, increment: 0.00 MiB\n"
     ]
    }
   ],
   "source": [
    "%memit \n",
    "i=2000\n",
    "if bCreateFile:\n",
    "    with tqdm(total=len(Data_dir[i:i+2000])) as pbar:\n",
    "        for file in Data_dir[i:i+2000]:\n",
    "            filename,name = file,file.split('/')[-1].split('.')[0]\n",
    "            create_spectrogram(base_dir_out,filename,name)\n",
    "            pbar.update(1)\n",
    "    gc.collect()"
   ]
  },
  {
   "cell_type": "code",
   "execution_count": 28,
   "metadata": {},
   "outputs": [
    {
     "name": "stdout",
     "output_type": "stream",
     "text": [
      "peak memory: 372.94 MiB, increment: 0.00 MiB\n"
     ]
    }
   ],
   "source": [
    "%memit \n",
    "i=4000\n",
    "if bCreateFile:\n",
    "    with tqdm(total=len(Data_dir[i:])) as pbar:\n",
    "        for file in Data_dir[i:]:\n",
    "            filename,name = file,file.split('/')[-1].split('.')[0]\n",
    "            create_spectrogram(base_dir_out,filename,name)\n",
    "            pbar.update(1)\n",
    "    gc.collect()"
   ]
  },
  {
   "cell_type": "markdown",
   "metadata": {},
   "source": [
    "Doing the same for our test dataset:"
   ]
  },
  {
   "cell_type": "code",
   "execution_count": 29,
   "metadata": {},
   "outputs": [
    {
     "name": "stdout",
     "output_type": "stream",
     "text": [
      "peak memory: 372.95 MiB, increment: 0.00 MiB\n"
     ]
    }
   ],
   "source": [
    "%memit\n",
    "i=0\n",
    "if bCreateFile:\n",
    "    with tqdm(total=len(Test_dir[i:i+2000])) as pbar:\n",
    "        for file in Test_dir[i:i+2000]:\n",
    "            filename,name = file,file.split('/')[-1].split('.')[0]\n",
    "            create_spectrogram_test(base_dir_out,filename,name)\n",
    "            pbar.update(1)\n",
    "    gc.collect()"
   ]
  },
  {
   "cell_type": "code",
   "execution_count": 30,
   "metadata": {},
   "outputs": [
    {
     "name": "stdout",
     "output_type": "stream",
     "text": [
      "peak memory: 372.95 MiB, increment: 0.00 MiB\n"
     ]
    }
   ],
   "source": [
    "%memit\n",
    "i=2000\n",
    "if bCreateFile:\n",
    "    with tqdm(total=len(Test_dir[i:])) as pbar:\n",
    "        for file in Test_dir[i:]:\n",
    "            filename,name = file,file.split('/')[-1].split('.')[0]\n",
    "            create_spectrogram_test(base_dir_out,filename,name)\n",
    "            pbar.update(1)\n",
    "    gc.collect()"
   ]
  },
  {
   "cell_type": "code",
   "execution_count": 32,
   "metadata": {},
   "outputs": [],
   "source": [
    "from keras.preprocessing.image import ImageDataGenerator\n",
    "\n",
    "def append_ext(fn):\n",
    "    return fn+\".jpg\""
   ]
  },
  {
   "cell_type": "code",
   "execution_count": 33,
   "metadata": {},
   "outputs": [
    {
     "name": "stdout",
     "output_type": "stream",
     "text": [
      "Test  test.csv\r\n"
     ]
    }
   ],
   "source": [
    "dataloc_test=dataloc+'/test'\n",
    "dataloc_train=dataloc+'/train'\n",
    "\n",
    "!ls $dataloc_test"
   ]
  },
  {
   "cell_type": "code",
   "execution_count": 34,
   "metadata": {},
   "outputs": [
    {
     "name": "stdout",
     "output_type": "stream",
     "text": [
      "/home/seung/dataset/UrbanSound_devilsknight/train/train.csv\n",
      "/home/seung/dataset/UrbanSound_devilsknight/test/test.csv\n"
     ]
    }
   ],
   "source": [
    "csv_train = dataloc_train+'/train.csv'\n",
    "csv_test = dataloc_test+'/test.csv'\n",
    "print(csv_train)\n",
    "print(csv_test)"
   ]
  },
  {
   "cell_type": "code",
   "execution_count": 35,
   "metadata": {},
   "outputs": [],
   "source": [
    "traindf=pd.read_csv(csv_train,dtype=str)\n",
    "testdf=pd.read_csv(csv_test,dtype=str)\n",
    "traindf[\"ID\"]=traindf[\"ID\"].apply(append_ext)\n",
    "testdf[\"ID\"]=testdf[\"ID\"].apply(append_ext)"
   ]
  },
  {
   "cell_type": "code",
   "execution_count": 36,
   "metadata": {},
   "outputs": [
    {
     "data": {
      "text/plain": [
       "<bound method NDFrame.head of             ID            Class\n",
       "0        0.jpg            siren\n",
       "1        1.jpg     street_music\n",
       "2        2.jpg         drilling\n",
       "3        3.jpg            siren\n",
       "4        4.jpg         dog_bark\n",
       "...        ...              ...\n",
       "5430  8725.jpg    engine_idling\n",
       "5431  8726.jpg         dog_bark\n",
       "5432  8727.jpg    engine_idling\n",
       "5433  8728.jpg    engine_idling\n",
       "5434  8729.jpg  air_conditioner\n",
       "\n",
       "[5435 rows x 2 columns]>"
      ]
     },
     "execution_count": 36,
     "metadata": {},
     "output_type": "execute_result"
    }
   ],
   "source": [
    "traindf.head"
   ]
  },
  {
   "cell_type": "code",
   "execution_count": 37,
   "metadata": {},
   "outputs": [
    {
     "data": {
      "text/plain": [
       "0          0.jpg\n",
       "1          1.jpg\n",
       "2          2.jpg\n",
       "3          3.jpg\n",
       "4          4.jpg\n",
       "          ...   \n",
       "5430    8725.jpg\n",
       "5431    8726.jpg\n",
       "5432    8727.jpg\n",
       "5433    8728.jpg\n",
       "5434    8729.jpg\n",
       "Name: ID, Length: 5435, dtype: object"
      ]
     },
     "execution_count": 37,
     "metadata": {},
     "output_type": "execute_result"
    }
   ],
   "source": [
    "traindf[\"ID\"]"
   ]
  },
  {
   "cell_type": "code",
   "execution_count": 38,
   "metadata": {},
   "outputs": [
    {
     "name": "stdout",
     "output_type": "stream",
     "text": [
      "2.2.5\n"
     ]
    }
   ],
   "source": [
    "import keras\n",
    "print(keras.__version__)"
   ]
  },
  {
   "cell_type": "code",
   "execution_count": 40,
   "metadata": {},
   "outputs": [],
   "source": [
    "#datagen = ImageDataGenerator(rescale=1./255.,validation_split=0.25)\n",
    "#datagen = ImageDataGenerator(validation_split=0.2, rescale=1./255)\n",
    "#datagen = ImageDataGenerator(rescale=1./255)\n",
    "#datagen=ImageDataGenerator(rescale=1./255.,validation_split=0.25)\n",
    "#datagen=ImageDataGenerator(rescale=1./255.) # keras 2.1.2\n",
    "datagen=ImageDataGenerator(rescale=1./255.,validation_split=0.25)"
   ]
  },
  {
   "cell_type": "code",
   "execution_count": 43,
   "metadata": {},
   "outputs": [
    {
     "name": "stdout",
     "output_type": "stream",
     "text": [
      "Found 4077 validated image filenames belonging to 10 classes.\n"
     ]
    }
   ],
   "source": [
    "train_generator=datagen.flow_from_dataframe(\n",
    "    dataframe=traindf,\n",
    "    directory=base_dir_out+'_train',\n",
    "    x_col=\"ID\",\n",
    "    y_col=\"Class\",\n",
    "    subset=\"training\",\n",
    "    batch_size=32,\n",
    "    seed=42,\n",
    "    shuffle=True,\n",
    "    class_mode=\"categorical\",\n",
    "    target_size=(64,64))"
   ]
  },
  {
   "cell_type": "code",
   "execution_count": 44,
   "metadata": {},
   "outputs": [
    {
     "name": "stdout",
     "output_type": "stream",
     "text": [
      "Found 1358 validated image filenames belonging to 10 classes.\n"
     ]
    }
   ],
   "source": [
    "valid_generator=datagen.flow_from_dataframe(\n",
    "    dataframe=traindf,\n",
    "    directory=base_dir_out+'_train',#directory=\"/kaggle/working/train/\",\n",
    "    x_col=\"ID\",\n",
    "    y_col=\"Class\",\n",
    "    subset=\"validation\",\n",
    "    batch_size=32,\n",
    "    seed=42,\n",
    "    shuffle=True,\n",
    "    class_mode=\"categorical\",\n",
    "    target_size=(64,64))"
   ]
  },
  {
   "cell_type": "code",
   "execution_count": 45,
   "metadata": {},
   "outputs": [],
   "source": [
    "from keras.layers import Dense, Activation, Flatten, Dropout, BatchNormalization\n",
    "from keras.models import Sequential, Model\n",
    "from keras.layers import Conv2D, MaxPooling2D\n",
    "from keras import regularizers, optimizers\n",
    "import pandas as pd\n",
    "import numpy as np\n"
   ]
  },
  {
   "cell_type": "code",
   "execution_count": 46,
   "metadata": {},
   "outputs": [
    {
     "name": "stdout",
     "output_type": "stream",
     "text": [
      "WARNING:tensorflow:From /home/seung/.venv/py368LatestKeras/lib/python3.6/site-packages/tensorflow/python/framework/op_def_library.py:263: colocate_with (from tensorflow.python.framework.ops) is deprecated and will be removed in a future version.\n",
      "Instructions for updating:\n",
      "Colocations handled automatically by placer.\n",
      "WARNING:tensorflow:From /home/seung/.venv/py368LatestKeras/lib/python3.6/site-packages/keras/backend/tensorflow_backend.py:3733: calling dropout (from tensorflow.python.ops.nn_ops) with keep_prob is deprecated and will be removed in a future version.\n",
      "Instructions for updating:\n",
      "Please use `rate` instead of `keep_prob`. Rate should be set to `rate = 1 - keep_prob`.\n",
      "Model: \"sequential_1\"\n",
      "_________________________________________________________________\n",
      "Layer (type)                 Output Shape              Param #   \n",
      "=================================================================\n",
      "conv2d_1 (Conv2D)            (None, 64, 64, 32)        896       \n",
      "_________________________________________________________________\n",
      "activation_1 (Activation)    (None, 64, 64, 32)        0         \n",
      "_________________________________________________________________\n",
      "conv2d_2 (Conv2D)            (None, 62, 62, 64)        18496     \n",
      "_________________________________________________________________\n",
      "activation_2 (Activation)    (None, 62, 62, 64)        0         \n",
      "_________________________________________________________________\n",
      "max_pooling2d_1 (MaxPooling2 (None, 31, 31, 64)        0         \n",
      "_________________________________________________________________\n",
      "dropout_1 (Dropout)          (None, 31, 31, 64)        0         \n",
      "_________________________________________________________________\n",
      "conv2d_3 (Conv2D)            (None, 31, 31, 64)        36928     \n",
      "_________________________________________________________________\n",
      "activation_3 (Activation)    (None, 31, 31, 64)        0         \n",
      "_________________________________________________________________\n",
      "conv2d_4 (Conv2D)            (None, 29, 29, 64)        36928     \n",
      "_________________________________________________________________\n",
      "activation_4 (Activation)    (None, 29, 29, 64)        0         \n",
      "_________________________________________________________________\n",
      "max_pooling2d_2 (MaxPooling2 (None, 14, 14, 64)        0         \n",
      "_________________________________________________________________\n",
      "dropout_2 (Dropout)          (None, 14, 14, 64)        0         \n",
      "_________________________________________________________________\n",
      "conv2d_5 (Conv2D)            (None, 14, 14, 128)       73856     \n",
      "_________________________________________________________________\n",
      "activation_5 (Activation)    (None, 14, 14, 128)       0         \n",
      "_________________________________________________________________\n",
      "conv2d_6 (Conv2D)            (None, 12, 12, 128)       147584    \n",
      "_________________________________________________________________\n",
      "activation_6 (Activation)    (None, 12, 12, 128)       0         \n",
      "_________________________________________________________________\n",
      "max_pooling2d_3 (MaxPooling2 (None, 6, 6, 128)         0         \n",
      "_________________________________________________________________\n",
      "dropout_3 (Dropout)          (None, 6, 6, 128)         0         \n",
      "_________________________________________________________________\n",
      "flatten_1 (Flatten)          (None, 4608)              0         \n",
      "_________________________________________________________________\n",
      "dense_1 (Dense)              (None, 512)               2359808   \n",
      "_________________________________________________________________\n",
      "activation_7 (Activation)    (None, 512)               0         \n",
      "_________________________________________________________________\n",
      "dropout_4 (Dropout)          (None, 512)               0         \n",
      "_________________________________________________________________\n",
      "dense_2 (Dense)              (None, 10)                5130      \n",
      "=================================================================\n",
      "Total params: 2,679,626\n",
      "Trainable params: 2,679,626\n",
      "Non-trainable params: 0\n",
      "_________________________________________________________________\n"
     ]
    }
   ],
   "source": [
    "\n",
    "model = Sequential()\n",
    "model.add(Conv2D(32, (3, 3), padding='same',  input_shape=(64,64,3)))\n",
    "model.add(Activation('relu'))\n",
    "model.add(Conv2D(64, (3, 3)))\n",
    "model.add(Activation('relu'))\n",
    "model.add(MaxPooling2D(pool_size=(2, 2)))\n",
    "model.add(Dropout(0.25))\n",
    "model.add(Conv2D(64, (3, 3), padding='same'))\n",
    "model.add(Activation('relu'))\n",
    "model.add(Conv2D(64, (3, 3)))\n",
    "model.add(Activation('relu'))\n",
    "model.add(MaxPooling2D(pool_size=(2, 2)))\n",
    "model.add(Dropout(0.5))\n",
    "model.add(Conv2D(128, (3, 3), padding='same'))\n",
    "model.add(Activation('relu'))\n",
    "model.add(Conv2D(128, (3, 3)))\n",
    "model.add(Activation('relu'))\n",
    "model.add(MaxPooling2D(pool_size=(2, 2)))\n",
    "model.add(Dropout(0.5))\n",
    "model.add(Flatten())\n",
    "model.add(Dense(512))\n",
    "model.add(Activation('relu'))\n",
    "model.add(Dropout(0.5))\n",
    "model.add(Dense(10, activation='softmax'))\n",
    "model.compile(optimizers.rmsprop(lr=0.0005, decay=1e-6),loss=\"categorical_crossentropy\",metrics=[\"accuracy\"])\n",
    "model.summary()"
   ]
  },
  {
   "cell_type": "code",
   "execution_count": 47,
   "metadata": {},
   "outputs": [
    {
     "name": "stdout",
     "output_type": "stream",
     "text": [
      "WARNING:tensorflow:From /home/seung/.venv/py368LatestKeras/lib/python3.6/site-packages/tensorflow/python/ops/math_ops.py:3066: to_int32 (from tensorflow.python.ops.math_ops) is deprecated and will be removed in a future version.\n",
      "Instructions for updating:\n",
      "Use tf.cast instead.\n",
      "Epoch 1/150\n",
      "127/127 [==============================] - 7s 59ms/step - loss: 2.0896 - acc: 0.2242 - val_loss: 1.9906 - val_acc: 0.2768\n",
      "Epoch 2/150\n",
      "127/127 [==============================] - 5s 41ms/step - loss: 1.8140 - acc: 0.3459 - val_loss: 1.5343 - val_acc: 0.4683\n",
      "Epoch 3/150\n",
      "127/127 [==============================] - 5s 41ms/step - loss: 1.4883 - acc: 0.4701 - val_loss: 1.3120 - val_acc: 0.5558\n",
      "Epoch 4/150\n",
      "127/127 [==============================] - 5s 41ms/step - loss: 1.1846 - acc: 0.5972 - val_loss: 0.9894 - val_acc: 0.6652\n",
      "Epoch 5/150\n",
      "127/127 [==============================] - 5s 41ms/step - loss: 1.0037 - acc: 0.6628 - val_loss: 0.8074 - val_acc: 0.7247\n",
      "Epoch 6/150\n",
      "127/127 [==============================] - 5s 40ms/step - loss: 0.8206 - acc: 0.7272 - val_loss: 0.8008 - val_acc: 0.7466\n",
      "Epoch 7/150\n",
      "127/127 [==============================] - 5s 40ms/step - loss: 0.6986 - acc: 0.7724 - val_loss: 0.6850 - val_acc: 0.7798\n",
      "Epoch 8/150\n",
      "127/127 [==============================] - 5s 40ms/step - loss: 0.6169 - acc: 0.7984 - val_loss: 0.5816 - val_acc: 0.8235\n",
      "Epoch 9/150\n",
      "127/127 [==============================] - 5s 40ms/step - loss: 0.5349 - acc: 0.8206 - val_loss: 0.5600 - val_acc: 0.8265\n",
      "Epoch 10/150\n",
      "127/127 [==============================] - 5s 39ms/step - loss: 0.4784 - acc: 0.8449 - val_loss: 0.5549 - val_acc: 0.8183\n",
      "Epoch 11/150\n",
      "127/127 [==============================] - 5s 38ms/step - loss: 0.4092 - acc: 0.8609 - val_loss: 0.5151 - val_acc: 0.8605\n",
      "Epoch 12/150\n",
      "127/127 [==============================] - 5s 38ms/step - loss: 0.3899 - acc: 0.8668 - val_loss: 0.4812 - val_acc: 0.8499\n",
      "Epoch 13/150\n",
      "127/127 [==============================] - 5s 38ms/step - loss: 0.3538 - acc: 0.8821 - val_loss: 0.5231 - val_acc: 0.8658\n",
      "Epoch 14/150\n",
      "127/127 [==============================] - 5s 38ms/step - loss: 0.3152 - acc: 0.9024 - val_loss: 0.3767 - val_acc: 0.8861\n",
      "Epoch 15/150\n",
      "127/127 [==============================] - 5s 37ms/step - loss: 0.3038 - acc: 0.9029 - val_loss: 0.4223 - val_acc: 0.8786\n",
      "Epoch 16/150\n",
      "127/127 [==============================] - 5s 37ms/step - loss: 0.2594 - acc: 0.9106 - val_loss: 0.3912 - val_acc: 0.8673\n",
      "Epoch 17/150\n",
      "127/127 [==============================] - 5s 37ms/step - loss: 0.2419 - acc: 0.9199 - val_loss: 0.4679 - val_acc: 0.8786\n",
      "Epoch 18/150\n",
      "127/127 [==============================] - 5s 37ms/step - loss: 0.2210 - acc: 0.9246 - val_loss: 0.4077 - val_acc: 0.8861\n",
      "Epoch 19/150\n",
      "127/127 [==============================] - 5s 37ms/step - loss: 0.2233 - acc: 0.9267 - val_loss: 0.2986 - val_acc: 0.9125\n",
      "Epoch 20/150\n",
      "127/127 [==============================] - 5s 37ms/step - loss: 0.1838 - acc: 0.9397 - val_loss: 0.3827 - val_acc: 0.8997\n",
      "Epoch 21/150\n",
      "127/127 [==============================] - 5s 37ms/step - loss: 0.1845 - acc: 0.9401 - val_loss: 0.4178 - val_acc: 0.8831\n",
      "Epoch 22/150\n",
      "127/127 [==============================] - 5s 37ms/step - loss: 0.1734 - acc: 0.9439 - val_loss: 0.2632 - val_acc: 0.9140\n",
      "Epoch 23/150\n",
      "127/127 [==============================] - 5s 38ms/step - loss: 0.1482 - acc: 0.9507 - val_loss: 0.4071 - val_acc: 0.9163\n",
      "Epoch 24/150\n",
      "127/127 [==============================] - 5s 38ms/step - loss: 0.1600 - acc: 0.9452 - val_loss: 0.3249 - val_acc: 0.9133\n",
      "Epoch 25/150\n",
      "127/127 [==============================] - 5s 38ms/step - loss: 0.1375 - acc: 0.9547 - val_loss: 0.3640 - val_acc: 0.8937\n",
      "Epoch 26/150\n",
      "127/127 [==============================] - 5s 38ms/step - loss: 0.1364 - acc: 0.9528 - val_loss: 0.3796 - val_acc: 0.8922\n",
      "Epoch 27/150\n",
      "127/127 [==============================] - 5s 37ms/step - loss: 0.1351 - acc: 0.9575 - val_loss: 0.3870 - val_acc: 0.9087\n",
      "Epoch 28/150\n",
      "127/127 [==============================] - 5s 38ms/step - loss: 0.1469 - acc: 0.9551 - val_loss: 0.2941 - val_acc: 0.9276\n",
      "Epoch 29/150\n",
      "127/127 [==============================] - 5s 38ms/step - loss: 0.1090 - acc: 0.9628 - val_loss: 0.4829 - val_acc: 0.8725\n",
      "Epoch 30/150\n",
      "127/127 [==============================] - 5s 38ms/step - loss: 0.1172 - acc: 0.9616 - val_loss: 0.3617 - val_acc: 0.9193\n",
      "Epoch 31/150\n",
      "127/127 [==============================] - 5s 38ms/step - loss: 0.1234 - acc: 0.9611 - val_loss: 0.3117 - val_acc: 0.9321\n",
      "Epoch 32/150\n",
      "127/127 [==============================] - 5s 38ms/step - loss: 0.1138 - acc: 0.9609 - val_loss: 0.3525 - val_acc: 0.9148\n",
      "Epoch 33/150\n",
      "127/127 [==============================] - 5s 38ms/step - loss: 0.0908 - acc: 0.9704 - val_loss: 0.5096 - val_acc: 0.8914\n",
      "Epoch 34/150\n",
      "127/127 [==============================] - 5s 38ms/step - loss: 0.1029 - acc: 0.9648 - val_loss: 0.3783 - val_acc: 0.9155\n",
      "Epoch 35/150\n",
      "127/127 [==============================] - 5s 38ms/step - loss: 0.1067 - acc: 0.9675 - val_loss: 0.2745 - val_acc: 0.9314\n",
      "Epoch 36/150\n",
      "127/127 [==============================] - 5s 38ms/step - loss: 0.0859 - acc: 0.9710 - val_loss: 0.3316 - val_acc: 0.9261\n",
      "Epoch 37/150\n",
      "127/127 [==============================] - 5s 38ms/step - loss: 0.1089 - acc: 0.9653 - val_loss: 0.3695 - val_acc: 0.9216\n",
      "Epoch 38/150\n",
      "127/127 [==============================] - 5s 38ms/step - loss: 0.0874 - acc: 0.9728 - val_loss: 0.3456 - val_acc: 0.9329\n",
      "Epoch 39/150\n",
      "127/127 [==============================] - 5s 38ms/step - loss: 0.1000 - acc: 0.9688 - val_loss: 0.3263 - val_acc: 0.9223\n",
      "Epoch 40/150\n",
      "127/127 [==============================] - 5s 38ms/step - loss: 0.0853 - acc: 0.9713 - val_loss: 0.4119 - val_acc: 0.9201\n",
      "Epoch 41/150\n",
      "127/127 [==============================] - 5s 38ms/step - loss: 0.0815 - acc: 0.9747 - val_loss: 0.3592 - val_acc: 0.9261\n",
      "Epoch 42/150\n",
      "127/127 [==============================] - 5s 38ms/step - loss: 0.1001 - acc: 0.9732 - val_loss: 0.4108 - val_acc: 0.9208\n",
      "Epoch 43/150\n",
      "127/127 [==============================] - 5s 37ms/step - loss: 0.0825 - acc: 0.9734 - val_loss: 0.4107 - val_acc: 0.9291\n",
      "Epoch 44/150\n",
      "127/127 [==============================] - 5s 37ms/step - loss: 0.0923 - acc: 0.9722 - val_loss: 0.4090 - val_acc: 0.9167\n",
      "Epoch 45/150\n",
      "127/127 [==============================] - 5s 40ms/step - loss: 0.0782 - acc: 0.9768 - val_loss: 0.3369 - val_acc: 0.9321\n",
      "Epoch 46/150\n",
      "127/127 [==============================] - 5s 39ms/step - loss: 0.0877 - acc: 0.9729 - val_loss: 0.4210 - val_acc: 0.9208\n",
      "Epoch 47/150\n",
      "127/127 [==============================] - 5s 39ms/step - loss: 0.0889 - acc: 0.9715 - val_loss: 0.3003 - val_acc: 0.9329\n",
      "Epoch 48/150\n",
      "127/127 [==============================] - 5s 39ms/step - loss: 0.0859 - acc: 0.9743 - val_loss: 0.2708 - val_acc: 0.9427\n",
      "Epoch 49/150\n",
      "127/127 [==============================] - 5s 39ms/step - loss: 0.0785 - acc: 0.9756 - val_loss: 0.3672 - val_acc: 0.9284\n",
      "Epoch 50/150\n",
      "127/127 [==============================] - 5s 38ms/step - loss: 0.0889 - acc: 0.9732 - val_loss: 0.2734 - val_acc: 0.9321\n",
      "Epoch 51/150\n",
      "127/127 [==============================] - 5s 38ms/step - loss: 0.0780 - acc: 0.9741 - val_loss: 0.3859 - val_acc: 0.9284\n",
      "Epoch 52/150\n",
      "127/127 [==============================] - 5s 38ms/step - loss: 0.0951 - acc: 0.9722 - val_loss: 0.3255 - val_acc: 0.9359\n",
      "Epoch 53/150\n",
      "127/127 [==============================] - 5s 38ms/step - loss: 0.0910 - acc: 0.9737 - val_loss: 0.3324 - val_acc: 0.9253\n",
      "Epoch 54/150\n",
      "127/127 [==============================] - 5s 38ms/step - loss: 0.0793 - acc: 0.9791 - val_loss: 0.3818 - val_acc: 0.9231\n",
      "Epoch 55/150\n",
      "127/127 [==============================] - 5s 38ms/step - loss: 0.0991 - acc: 0.9753 - val_loss: 0.2578 - val_acc: 0.9404\n",
      "Epoch 56/150\n",
      "127/127 [==============================] - 5s 37ms/step - loss: 0.0804 - acc: 0.9795 - val_loss: 0.4178 - val_acc: 0.9306\n",
      "Epoch 57/150\n",
      "127/127 [==============================] - 5s 38ms/step - loss: 0.0862 - acc: 0.9747 - val_loss: 0.3072 - val_acc: 0.9374\n",
      "Epoch 58/150\n",
      "127/127 [==============================] - 5s 37ms/step - loss: 0.0864 - acc: 0.9737 - val_loss: 0.5113 - val_acc: 0.9125\n",
      "Epoch 59/150\n",
      "127/127 [==============================] - 5s 38ms/step - loss: 0.0684 - acc: 0.9803 - val_loss: 0.4613 - val_acc: 0.9284\n"
     ]
    },
    {
     "name": "stdout",
     "output_type": "stream",
     "text": [
      "Epoch 60/150\n",
      "127/127 [==============================] - 5s 38ms/step - loss: 0.1079 - acc: 0.9709 - val_loss: 0.4135 - val_acc: 0.9118\n",
      "Epoch 61/150\n",
      "127/127 [==============================] - 5s 38ms/step - loss: 0.0801 - acc: 0.9771 - val_loss: 0.3857 - val_acc: 0.9231\n",
      "Epoch 62/150\n",
      "127/127 [==============================] - 5s 38ms/step - loss: 0.0920 - acc: 0.9775 - val_loss: 0.4938 - val_acc: 0.9246\n",
      "Epoch 63/150\n",
      "127/127 [==============================] - 5s 38ms/step - loss: 0.0855 - acc: 0.9783 - val_loss: 0.5291 - val_acc: 0.9140\n",
      "Epoch 64/150\n",
      "127/127 [==============================] - 5s 37ms/step - loss: 0.1038 - acc: 0.9732 - val_loss: 0.3408 - val_acc: 0.9382\n",
      "Epoch 65/150\n",
      "127/127 [==============================] - 5s 38ms/step - loss: 0.0888 - acc: 0.9765 - val_loss: 0.3612 - val_acc: 0.9336\n",
      "Epoch 66/150\n",
      "127/127 [==============================] - 5s 38ms/step - loss: 0.0759 - acc: 0.9801 - val_loss: 0.4955 - val_acc: 0.9170\n",
      "Epoch 67/150\n",
      "127/127 [==============================] - 5s 38ms/step - loss: 0.0964 - acc: 0.9764 - val_loss: 0.3888 - val_acc: 0.9314\n",
      "Epoch 68/150\n",
      "127/127 [==============================] - 5s 38ms/step - loss: 0.0818 - acc: 0.9808 - val_loss: 0.6122 - val_acc: 0.9178\n",
      "Epoch 69/150\n",
      "127/127 [==============================] - 5s 38ms/step - loss: 0.1117 - acc: 0.9707 - val_loss: 0.5425 - val_acc: 0.9118\n",
      "Epoch 70/150\n",
      "127/127 [==============================] - 5s 38ms/step - loss: 0.0894 - acc: 0.9774 - val_loss: 0.4254 - val_acc: 0.9359\n",
      "Epoch 71/150\n",
      "127/127 [==============================] - 5s 38ms/step - loss: 0.0885 - acc: 0.9798 - val_loss: 0.4858 - val_acc: 0.9276\n",
      "Epoch 72/150\n",
      "127/127 [==============================] - 5s 38ms/step - loss: 0.0963 - acc: 0.9760 - val_loss: 0.3631 - val_acc: 0.9253\n",
      "Epoch 73/150\n",
      "127/127 [==============================] - 5s 38ms/step - loss: 0.0910 - acc: 0.9761 - val_loss: 0.3810 - val_acc: 0.9389\n",
      "Epoch 74/150\n",
      "127/127 [==============================] - 5s 38ms/step - loss: 0.0924 - acc: 0.9784 - val_loss: 0.3808 - val_acc: 0.9336\n",
      "Epoch 75/150\n",
      "127/127 [==============================] - 5s 38ms/step - loss: 0.1038 - acc: 0.9737 - val_loss: 0.3117 - val_acc: 0.9359\n",
      "Epoch 76/150\n",
      "127/127 [==============================] - 5s 38ms/step - loss: 0.0910 - acc: 0.9722 - val_loss: 0.3932 - val_acc: 0.9261\n",
      "Epoch 77/150\n",
      "127/127 [==============================] - 5s 39ms/step - loss: 0.0822 - acc: 0.9806 - val_loss: 0.3426 - val_acc: 0.9389\n",
      "Epoch 78/150\n",
      "127/127 [==============================] - 5s 38ms/step - loss: 0.0926 - acc: 0.9756 - val_loss: 0.3618 - val_acc: 0.9321\n",
      "Epoch 79/150\n",
      "127/127 [==============================] - 5s 38ms/step - loss: 0.1031 - acc: 0.9764 - val_loss: 0.4247 - val_acc: 0.9148\n",
      "Epoch 80/150\n",
      "127/127 [==============================] - 5s 38ms/step - loss: 0.0779 - acc: 0.9791 - val_loss: 0.5066 - val_acc: 0.9125\n",
      "Epoch 81/150\n",
      "127/127 [==============================] - 5s 38ms/step - loss: 0.1203 - acc: 0.9749 - val_loss: 0.4728 - val_acc: 0.9261\n",
      "Epoch 82/150\n",
      "127/127 [==============================] - 5s 38ms/step - loss: 0.0879 - acc: 0.9791 - val_loss: 0.3517 - val_acc: 0.9487\n",
      "Epoch 83/150\n",
      "127/127 [==============================] - 5s 38ms/step - loss: 0.0844 - acc: 0.9796 - val_loss: 0.3665 - val_acc: 0.9427\n",
      "Epoch 84/150\n",
      "127/127 [==============================] - 5s 38ms/step - loss: 0.0857 - acc: 0.9783 - val_loss: 0.5681 - val_acc: 0.9284\n",
      "Epoch 85/150\n",
      "127/127 [==============================] - 5s 38ms/step - loss: 0.1145 - acc: 0.9754 - val_loss: 0.4704 - val_acc: 0.9291\n",
      "Epoch 86/150\n",
      "127/127 [==============================] - 5s 37ms/step - loss: 0.0946 - acc: 0.9785 - val_loss: 0.4888 - val_acc: 0.9351\n",
      "Epoch 87/150\n",
      "127/127 [==============================] - 5s 37ms/step - loss: 0.1199 - acc: 0.9749 - val_loss: 0.3650 - val_acc: 0.9301\n",
      "Epoch 88/150\n",
      "127/127 [==============================] - 5s 40ms/step - loss: 0.1211 - acc: 0.9736 - val_loss: 0.4154 - val_acc: 0.9397\n",
      "Epoch 89/150\n",
      "127/127 [==============================] - 5s 39ms/step - loss: 0.1123 - acc: 0.9763 - val_loss: 0.6181 - val_acc: 0.9253\n",
      "Epoch 90/150\n",
      "127/127 [==============================] - 5s 39ms/step - loss: 0.1602 - acc: 0.9712 - val_loss: 0.3565 - val_acc: 0.9351\n",
      "Epoch 91/150\n",
      "127/127 [==============================] - 5s 39ms/step - loss: 0.1245 - acc: 0.9737 - val_loss: 0.5531 - val_acc: 0.9065\n",
      "Epoch 92/150\n",
      "127/127 [==============================] - 5s 38ms/step - loss: 0.1027 - acc: 0.9738 - val_loss: 0.5292 - val_acc: 0.9253\n",
      "Epoch 93/150\n",
      "127/127 [==============================] - 5s 38ms/step - loss: 0.1370 - acc: 0.9742 - val_loss: 0.4179 - val_acc: 0.9246\n",
      "Epoch 94/150\n",
      "127/127 [==============================] - 5s 38ms/step - loss: 0.1044 - acc: 0.9818 - val_loss: 0.5351 - val_acc: 0.9080\n",
      "Epoch 95/150\n",
      "127/127 [==============================] - 5s 38ms/step - loss: 0.1102 - acc: 0.9771 - val_loss: 0.3194 - val_acc: 0.9412\n",
      "Epoch 96/150\n",
      "127/127 [==============================] - 5s 38ms/step - loss: 0.1228 - acc: 0.9741 - val_loss: 0.3375 - val_acc: 0.9382\n",
      "Epoch 97/150\n",
      "127/127 [==============================] - 5s 38ms/step - loss: 0.1193 - acc: 0.9759 - val_loss: 0.5887 - val_acc: 0.9299\n",
      "Epoch 98/150\n",
      "127/127 [==============================] - 5s 38ms/step - loss: 0.0948 - acc: 0.9825 - val_loss: 0.4339 - val_acc: 0.9344\n",
      "Epoch 99/150\n",
      "127/127 [==============================] - 5s 38ms/step - loss: 0.1251 - acc: 0.9742 - val_loss: 0.3954 - val_acc: 0.9201\n",
      "Epoch 100/150\n",
      "127/127 [==============================] - 5s 38ms/step - loss: 0.1207 - acc: 0.9744 - val_loss: 0.7177 - val_acc: 0.9103\n",
      "Epoch 101/150\n",
      "127/127 [==============================] - 5s 37ms/step - loss: 0.1124 - acc: 0.9786 - val_loss: 0.4314 - val_acc: 0.9246\n",
      "Epoch 102/150\n",
      "127/127 [==============================] - 5s 38ms/step - loss: 0.1283 - acc: 0.9717 - val_loss: 0.4089 - val_acc: 0.9321\n",
      "Epoch 103/150\n",
      "127/127 [==============================] - 5s 38ms/step - loss: 0.0981 - acc: 0.9783 - val_loss: 0.4359 - val_acc: 0.9359\n",
      "Epoch 104/150\n",
      "127/127 [==============================] - 5s 37ms/step - loss: 0.1420 - acc: 0.9732 - val_loss: 0.4345 - val_acc: 0.9419\n",
      "Epoch 105/150\n",
      "127/127 [==============================] - 5s 38ms/step - loss: 0.1123 - acc: 0.9761 - val_loss: 0.6796 - val_acc: 0.9223\n",
      "Epoch 106/150\n",
      "127/127 [==============================] - 5s 38ms/step - loss: 0.1258 - acc: 0.9766 - val_loss: 0.5702 - val_acc: 0.9238\n",
      "Epoch 107/150\n",
      "127/127 [==============================] - 5s 38ms/step - loss: 0.1194 - acc: 0.9771 - val_loss: 0.4140 - val_acc: 0.9208\n",
      "Epoch 108/150\n",
      "127/127 [==============================] - 5s 38ms/step - loss: 0.1052 - acc: 0.9774 - val_loss: 0.5451 - val_acc: 0.9253\n",
      "Epoch 109/150\n",
      "127/127 [==============================] - 5s 38ms/step - loss: 0.1186 - acc: 0.9779 - val_loss: 0.6089 - val_acc: 0.9193\n",
      "Epoch 110/150\n",
      "127/127 [==============================] - 5s 38ms/step - loss: 0.1151 - acc: 0.9786 - val_loss: 0.4833 - val_acc: 0.9306\n",
      "Epoch 111/150\n",
      "127/127 [==============================] - 5s 38ms/step - loss: 0.1022 - acc: 0.9833 - val_loss: 0.4901 - val_acc: 0.9314\n",
      "Epoch 112/150\n",
      "127/127 [==============================] - 5s 38ms/step - loss: 0.1194 - acc: 0.9750 - val_loss: 0.6717 - val_acc: 0.9344\n",
      "Epoch 113/150\n",
      "127/127 [==============================] - 5s 38ms/step - loss: 0.1251 - acc: 0.9771 - val_loss: 0.3464 - val_acc: 0.9442\n",
      "Epoch 114/150\n",
      "127/127 [==============================] - 5s 38ms/step - loss: 0.1254 - acc: 0.9733 - val_loss: 0.5268 - val_acc: 0.9374\n",
      "Epoch 115/150\n",
      "127/127 [==============================] - 5s 38ms/step - loss: 0.1091 - acc: 0.9783 - val_loss: 0.3390 - val_acc: 0.9382\n",
      "Epoch 116/150\n",
      "127/127 [==============================] - 5s 38ms/step - loss: 0.1193 - acc: 0.9736 - val_loss: 0.4491 - val_acc: 0.9412\n",
      "Epoch 117/150\n",
      "127/127 [==============================] - 5s 38ms/step - loss: 0.1043 - acc: 0.9808 - val_loss: 0.4264 - val_acc: 0.9223\n",
      "Epoch 118/150\n",
      "127/127 [==============================] - 5s 38ms/step - loss: 0.1289 - acc: 0.9711 - val_loss: 0.5263 - val_acc: 0.9261\n",
      "Epoch 119/150\n",
      "127/127 [==============================] - 5s 38ms/step - loss: 0.1001 - acc: 0.9769 - val_loss: 0.4282 - val_acc: 0.9306\n",
      "Epoch 120/150\n"
     ]
    },
    {
     "name": "stdout",
     "output_type": "stream",
     "text": [
      "127/127 [==============================] - 5s 38ms/step - loss: 0.1290 - acc: 0.9723 - val_loss: 0.4590 - val_acc: 0.9419\n",
      "Epoch 121/150\n",
      "127/127 [==============================] - 5s 38ms/step - loss: 0.1444 - acc: 0.9744 - val_loss: 0.6466 - val_acc: 0.9246\n",
      "Epoch 122/150\n",
      "127/127 [==============================] - 5s 38ms/step - loss: 0.1239 - acc: 0.9763 - val_loss: 0.3660 - val_acc: 0.9284\n",
      "Epoch 123/150\n",
      "127/127 [==============================] - 5s 38ms/step - loss: 0.1071 - acc: 0.9803 - val_loss: 0.4607 - val_acc: 0.9367\n",
      "Epoch 124/150\n",
      "127/127 [==============================] - 5s 38ms/step - loss: 0.1649 - acc: 0.9716 - val_loss: 0.4260 - val_acc: 0.9246\n",
      "Epoch 125/150\n",
      "127/127 [==============================] - 5s 38ms/step - loss: 0.1164 - acc: 0.9773 - val_loss: 0.4354 - val_acc: 0.9118\n",
      "Epoch 126/150\n",
      "127/127 [==============================] - 5s 38ms/step - loss: 0.1177 - acc: 0.9776 - val_loss: 0.4474 - val_acc: 0.9457\n",
      "Epoch 127/150\n",
      "127/127 [==============================] - 5s 38ms/step - loss: 0.1116 - acc: 0.9788 - val_loss: 0.4111 - val_acc: 0.9216\n",
      "Epoch 128/150\n",
      "127/127 [==============================] - 5s 37ms/step - loss: 0.1085 - acc: 0.9806 - val_loss: 0.6342 - val_acc: 0.9125\n",
      "Epoch 129/150\n",
      "127/127 [==============================] - 5s 36ms/step - loss: 0.1252 - acc: 0.9771 - val_loss: 0.6633 - val_acc: 0.9178\n",
      "Epoch 130/150\n",
      "127/127 [==============================] - 5s 39ms/step - loss: 0.1013 - acc: 0.9800 - val_loss: 0.3815 - val_acc: 0.9360\n",
      "Epoch 131/150\n",
      "127/127 [==============================] - 5s 41ms/step - loss: 0.1239 - acc: 0.9788 - val_loss: 0.5429 - val_acc: 0.9246\n",
      "Epoch 132/150\n",
      "127/127 [==============================] - 5s 41ms/step - loss: 0.1717 - acc: 0.9754 - val_loss: 0.5486 - val_acc: 0.9238\n",
      "Epoch 133/150\n",
      "127/127 [==============================] - 5s 40ms/step - loss: 0.1565 - acc: 0.9724 - val_loss: 0.6093 - val_acc: 0.9336\n",
      "Epoch 134/150\n",
      "127/127 [==============================] - 5s 41ms/step - loss: 0.1609 - acc: 0.9722 - val_loss: 0.4897 - val_acc: 0.9299\n",
      "Epoch 135/150\n",
      "127/127 [==============================] - 5s 40ms/step - loss: 0.1273 - acc: 0.9774 - val_loss: 0.3974 - val_acc: 0.9193\n",
      "Epoch 136/150\n",
      "127/127 [==============================] - 5s 39ms/step - loss: 0.1449 - acc: 0.9781 - val_loss: 0.4788 - val_acc: 0.9178\n",
      "Epoch 137/150\n",
      "127/127 [==============================] - 5s 40ms/step - loss: 0.1407 - acc: 0.9754 - val_loss: 0.5390 - val_acc: 0.9314\n",
      "Epoch 138/150\n",
      "127/127 [==============================] - 5s 39ms/step - loss: 0.1180 - acc: 0.9801 - val_loss: 0.6187 - val_acc: 0.9238\n",
      "Epoch 139/150\n",
      "127/127 [==============================] - 5s 38ms/step - loss: 0.1753 - acc: 0.9766 - val_loss: 0.6305 - val_acc: 0.9329\n",
      "Epoch 140/150\n",
      "127/127 [==============================] - 5s 39ms/step - loss: 0.2132 - acc: 0.9728 - val_loss: 0.8499 - val_acc: 0.9163\n",
      "Epoch 141/150\n",
      "127/127 [==============================] - 5s 38ms/step - loss: 0.1495 - acc: 0.9786 - val_loss: 0.6619 - val_acc: 0.9246\n",
      "Epoch 142/150\n",
      "127/127 [==============================] - 5s 38ms/step - loss: 0.1297 - acc: 0.9776 - val_loss: 0.5514 - val_acc: 0.9253\n",
      "Epoch 143/150\n",
      "127/127 [==============================] - 5s 38ms/step - loss: 0.1097 - acc: 0.9813 - val_loss: 1.0316 - val_acc: 0.8989\n",
      "Epoch 144/150\n",
      "127/127 [==============================] - 5s 37ms/step - loss: 0.1644 - acc: 0.9747 - val_loss: 0.9712 - val_acc: 0.8967\n",
      "Epoch 145/150\n",
      "127/127 [==============================] - 5s 37ms/step - loss: 0.1698 - acc: 0.9747 - val_loss: 0.5675 - val_acc: 0.9268\n",
      "Epoch 146/150\n",
      "127/127 [==============================] - 5s 37ms/step - loss: 0.1540 - acc: 0.9742 - val_loss: 0.4418 - val_acc: 0.9367\n",
      "Epoch 147/150\n",
      "127/127 [==============================] - 5s 37ms/step - loss: 0.1702 - acc: 0.9720 - val_loss: 0.3814 - val_acc: 0.9480\n",
      "Epoch 148/150\n",
      "127/127 [==============================] - 5s 37ms/step - loss: 0.1441 - acc: 0.9715 - val_loss: 0.6265 - val_acc: 0.9291\n",
      "Epoch 149/150\n",
      "127/127 [==============================] - 5s 38ms/step - loss: 0.1462 - acc: 0.9754 - val_loss: 0.6394 - val_acc: 0.9186\n",
      "Epoch 150/150\n",
      "127/127 [==============================] - 5s 37ms/step - loss: 0.1836 - acc: 0.9695 - val_loss: 0.5771 - val_acc: 0.9397\n"
     ]
    },
    {
     "data": {
      "text/plain": [
       "[0.5511467451897694, 0.9360119047619048]"
      ]
     },
     "execution_count": 47,
     "metadata": {},
     "output_type": "execute_result"
    }
   ],
   "source": [
    "#Fitting keras model, no test gen for now\n",
    "STEP_SIZE_TRAIN=train_generator.n//train_generator.batch_size\n",
    "STEP_SIZE_VALID=valid_generator.n//valid_generator.batch_size\n",
    "#STEP_SIZE_TEST=test_generator.n//test_generator.batch_size\n",
    "model.fit_generator(generator=train_generator,\n",
    "                    steps_per_epoch=STEP_SIZE_TRAIN,\n",
    "                    validation_data=valid_generator,\n",
    "                    validation_steps=STEP_SIZE_VALID,\n",
    "                    epochs=150\n",
    ")\n",
    "model.evaluate_generator(generator=valid_generator, steps=STEP_SIZE_VALID\n",
    ")"
   ]
  },
  {
   "cell_type": "code",
   "execution_count": 48,
   "metadata": {},
   "outputs": [
    {
     "name": "stdout",
     "output_type": "stream",
     "text": [
      "/home/seung/data/out-audio1//n21_CL1model.h5\n"
     ]
    }
   ],
   "source": [
    "fnmodel=outDir+'model.h5'\n",
    "print(fnmodel)\n",
    "model.save(fnmodel)"
   ]
  },
  {
   "cell_type": "code",
   "execution_count": null,
   "metadata": {},
   "outputs": [],
   "source": []
  }
 ],
 "metadata": {
  "kernelspec": {
   "display_name": "Python 3",
   "language": "python",
   "name": "python3"
  },
  "language_info": {
   "codemirror_mode": {
    "name": "ipython",
    "version": 3
   },
   "file_extension": ".py",
   "mimetype": "text/x-python",
   "name": "python",
   "nbconvert_exporter": "python",
   "pygments_lexer": "ipython3",
   "version": "3.6.8"
  }
 },
 "nbformat": 4,
 "nbformat_minor": 2
}
